{
 "cells": [
  {
   "cell_type": "code",
   "execution_count": 1,
   "metadata": {},
   "outputs": [],
   "source": [
    "import numpy as np\n"
   ]
  },
  {
   "cell_type": "code",
   "execution_count": 6,
   "metadata": {},
   "outputs": [
    {
     "name": "stdout",
     "output_type": "stream",
     "text": [
      "Result of Matrix Multiplication of :\n",
      " [[1 2]\n",
      " [3 4]]  \n",
      "and \n",
      " [[5 6]\n",
      " [7 8]]\n",
      "is\n",
      " [[19 22]\n",
      " [43 50]]\n"
     ]
    }
   ],
   "source": [
    "# Matrix Multipication \n",
    "arr1 = np.array([[1,2],[3,4]])  \n",
    "arr2 = np.array([[5,6],[7,8]])  \n",
    "print(\"Result of Matrix Multiplication of :\\n\", arr1 , \" \\nand \\n\" , arr2)\n",
    "print(\"is\\n\",np.dot(arr1,arr2)) "
   ]
  },
  {
   "cell_type": "code",
   "execution_count": 8,
   "metadata": {},
   "outputs": [
    {
     "name": "stdout",
     "output_type": "stream",
     "text": [
      "The inverse of \n",
      " [[1 2]\n",
      " [5 6]] is \n",
      " [[-1.5   0.5 ]\n",
      " [ 1.25 -0.25]]\n"
     ]
    }
   ],
   "source": [
    " #inverse function\n",
    "a = np.array([[1,2],[5,6]])  \n",
    "inverse =np.linalg.inv(a)\n",
    "print(\"The inverse of \\n\" , a , \"is \\n\" , inverse)"
   ]
  },
  {
   "cell_type": "code",
   "execution_count": 10,
   "metadata": {},
   "outputs": [
    {
     "name": "stdout",
     "output_type": "stream",
     "text": [
      "The rank of matrix\n",
      " [[1 2]\n",
      " [3 4]]  is  2\n"
     ]
    }
   ],
   "source": [
    "# Rank of Matrix\n",
    "arr = np.array([[1,2],[3,4]])  \n",
    "print(\"The rank of matrix\\n\", arr, \" is \" ,np.linalg.matrix_rank(arr)) "
   ]
  },
  {
   "cell_type": "code",
   "execution_count": 11,
   "metadata": {},
   "outputs": [
    {
     "name": "stdout",
     "output_type": "stream",
     "text": [
      "The Determinant of matrix\n",
      " [[1 2]\n",
      " [3 4]]  is \n",
      " -2.0000000000000004\n"
     ]
    }
   ],
   "source": [
    "# Determinant of Matrix\n",
    "arr = np.array([[1,2],[3,4]])  \n",
    "print(\"The Determinant of matrix\\n\", arr, \" is \\n\" ,np.linalg.det(arr))"
   ]
  },
  {
   "cell_type": "code",
   "execution_count": 12,
   "metadata": {},
   "outputs": [
    {
     "name": "stdout",
     "output_type": "stream",
     "text": [
      "The array is  [[ 1 23 78]\n",
      " [98 60 75]\n",
      " [79 25 48]]\n",
      "The minimum element is  1\n",
      "The maximum element is  98\n"
     ]
    }
   ],
   "source": [
    "# Max and Min\n",
    "arr= np.array([[1,23,78],[98,60,75],[79,25,48]]) \n",
    "print(\"The array is \", arr)\n",
    "print(\"The minimum element is \", np.amin(arr))\n",
    "print(\"The maximum element is \", np.amax(arr))"
   ]
  },
  {
   "cell_type": "code",
   "execution_count": 22,
   "metadata": {},
   "outputs": [
    {
     "name": "stdout",
     "output_type": "stream",
     "text": [
      "The array is [7 8 8 9]\n",
      "Mean =  8.0\n",
      "Median =  8.0\n",
      "Standard Deviation =  0.7071067811865476\n",
      "Variance =  0.5\n",
      "Weighted Avg =  7.6923076923076925\n"
     ]
    }
   ],
   "source": [
    "\n",
    "arr = np.array([7,8,8,9])\n",
    "weights_arr = np.array([7,1,2,3])\n",
    "print(\"The array is\", arr)\n",
    "print(\"Mean = \",np.mean(arr))\n",
    "print(\"Median = \", np.median(arr))\n",
    "print(\"Standard Deviation = \", np.std(arr))\n",
    "print(\"Variance = \", np.var(arr))\n",
    "print(\"Weighted Avg = \", np.average(arr, weights=weights_arr))"
   ]
  },
  {
   "cell_type": "code",
   "execution_count": 25,
   "metadata": {},
   "outputs": [
    {
     "name": "stdout",
     "output_type": "stream",
     "text": [
      "\n",
      "25 Random Values with 0 mean & 1 SD using Normal Distribution\n",
      " [-0.66057122  0.53054862  1.96472672  0.46290802  1.19212348 -1.41499092\n",
      "  1.35032703 -1.05662584  0.22231894  0.39985031 -0.30282779 -0.13957877\n",
      "  1.53195952  0.39466097  1.07737196  1.21347492  0.32139958  0.08859802\n",
      "  0.6039657  -2.19717965  0.56038763 -0.37517437 -1.09362262 -0.7474733\n",
      "  1.22529016]\n",
      "\n",
      "25 Random Values with 0 mean & 1 SD using Uniform Distribution\n",
      " [0.10107893 0.23427583 0.18439587 0.73686375 0.02056479 0.55616804\n",
      " 0.15975267 0.79897315 0.93758198 0.59147908 0.98853197 0.65966962\n",
      " 0.54627446 0.69032387 0.22085544 0.86474429 0.24608632 0.86562671\n",
      " 0.87024572 0.63643413 0.18808217 0.88667353 0.37091676 0.75296458\n",
      " 0.92481869]\n",
      "\n",
      "25 Random Values with 5 lambda using Poisson Distribution\n",
      " [ 3  3  2 10  6  7  4  2  4  5  5  4  7  6  8  6  3  5  4  8  7  3  7  4\n",
      "  5]\n"
     ]
    }
   ],
   "source": [
    "# Generating Data using Probability Distribution\n",
    "normal_data =  np.random.normal(0, 1, 25)\n",
    "uniform_data =  np.random.uniform(0, 1, 25)\n",
    "poisson_data = np.random.poisson(5, 25)\n",
    "print(\"\\n25 Random Values with 0 mean & 1 SD using Normal Distribution\\n\" , normal_data)\n",
    "print(\"\\n25 Random Values with 0 mean & 1 SD using Uniform Distribution\\n\" , uniform_data)\n",
    "print(\"\\n25 Random Values with 5 lambda using Poisson Distribution\\n\" , poisson_data)"
   ]
  },
  {
   "cell_type": "code",
   "execution_count": null,
   "metadata": {},
   "outputs": [],
   "source": []
  }
 ],
 "metadata": {
  "kernelspec": {
   "display_name": "Python 3.10.3 64-bit",
   "language": "python",
   "name": "python3"
  },
  "language_info": {
   "codemirror_mode": {
    "name": "ipython",
    "version": 3
   },
   "file_extension": ".py",
   "mimetype": "text/x-python",
   "name": "python",
   "nbconvert_exporter": "python",
   "pygments_lexer": "ipython3",
   "version": "3.10.3"
  },
  "orig_nbformat": 4,
  "vscode": {
   "interpreter": {
    "hash": "369f2c481f4da34e4445cda3fffd2e751bd1c4d706f27375911949ba6bb62e1c"
   }
  }
 },
 "nbformat": 4,
 "nbformat_minor": 2
}
