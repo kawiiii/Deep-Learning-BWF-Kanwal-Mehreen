{
 "cells": [
  {
   "cell_type": "code",
   "execution_count": 1,
   "metadata": {},
   "outputs": [],
   "source": [
    "import numpy as np"
   ]
  },
  {
   "cell_type": "code",
   "execution_count": 4,
   "metadata": {},
   "outputs": [
    {
     "name": "stdout",
     "output_type": "stream",
     "text": [
      "Original Array: [0 1 2 3 4]\n",
      "Broadcasting with scalar 2 [0 2 4 6 8]\n"
     ]
    }
   ],
   "source": [
    "# Broadcasting with a scalar\n",
    "arr = np.arange(5)\n",
    "print(\"Original Array:\",arr)\n",
    "print(\"Broadcasting with scalar 2\",arr * 2)"
   ]
  },
  {
   "cell_type": "code",
   "execution_count": 6,
   "metadata": {},
   "outputs": [
    {
     "name": "stdout",
     "output_type": "stream",
     "text": [
      "Original array:\n",
      " [[1 2 3]\n",
      " [4 5 6]\n",
      " [7 8 9]]\n",
      "Column means: [4. 5. 6.]\n",
      "Demeaned array:\n",
      " [[-3. -3. -3.]\n",
      " [ 0.  0.  0.]\n",
      " [ 3.  3.  3.]]\n"
     ]
    }
   ],
   "source": [
    "# Demeaning the Column\n",
    "matrix_ = np.array([[1, 2, 3],\n",
    "              [4, 5, 6],\n",
    "              [7, 8, 9]])\n",
    "col_means = matrix_.mean(axis=0)\n",
    "new_matrix = matrix_ - col_means\n",
    "print(\"Original array:\\n\", matrix_)\n",
    "print(\"Column means:\", col_means)\n",
    "print(\"Demeaned array:\\n\", new_matrix)"
   ]
  },
  {
   "cell_type": "code",
   "execution_count": 8,
   "metadata": {},
   "outputs": [
    {
     "name": "stdout",
     "output_type": "stream",
     "text": [
      "Original array:\n",
      " [[ 1  2  3]\n",
      " [ 4  5  6]\n",
      " [ 7  8  9]\n",
      " [10 11 12]]\n",
      "Row means: [ 2.  5.  8. 11.]\n",
      "Demeaned array:\n",
      " [[-1.  0.  1.]\n",
      " [-1.  0.  1.]\n",
      " [-1.  0.  1.]\n",
      " [-1.  0.  1.]]\n"
     ]
    }
   ],
   "source": [
    "# Demeaning the Row\n",
    "# We reshape here because the trailing shape doesn't match with starting of other so we reshape to introduce 1 in it\n",
    "matrix_ = np.array([[1, 2, 3],\n",
    "              [4, 5, 6],\n",
    "              [7, 8, 9],\n",
    "              [10,11,12]])\n",
    "col_means = matrix_.mean(axis=1)\n",
    "new_matrix = matrix_ - col_means.reshape((4,1))\n",
    "print(\"Original array:\\n\", matrix_)\n",
    "print(\"Row means:\", col_means)\n",
    "print(\"Demeaned array:\\n\", new_matrix)"
   ]
  },
  {
   "cell_type": "code",
   "execution_count": 11,
   "metadata": {},
   "outputs": [
    {
     "name": "stdout",
     "output_type": "stream",
     "text": [
      "Original array:\n",
      " [[[-3.01548539 -0.12070765 -0.31408136 -0.24941057]\n",
      "  [ 0.28712683  2.32384606  0.00716717  0.28020328]\n",
      "  [-0.83202237  1.05989365 -1.10272188  0.96123805]]\n",
      "\n",
      " [[ 0.5276671  -0.18737577 -0.57934591 -0.42637053]\n",
      "  [ 0.53137521  1.19550329 -1.65181049  0.11374416]\n",
      "  [-0.25133581 -0.16367747 -0.9515684   0.4675587 ]]]\n",
      "Depth means: [[-0.92492124  0.72458584  0.02159686]\n",
      " [-0.16635628  0.04720304 -0.22475575]]\n",
      "Demeaned array:\n",
      " [[[-2.09056415  0.80421359  0.61083989  0.67551067]\n",
      "  [-0.437459    1.59926023 -0.71741867 -0.44438256]\n",
      "  [-0.85361923  1.03829679 -1.12431874  0.93964119]]\n",
      "\n",
      " [[ 0.69402338 -0.02101949 -0.41298963 -0.26001426]\n",
      "  [ 0.48417217  1.14830024 -1.69901353  0.06654112]\n",
      "  [-0.02658007  0.06107828 -0.72681266  0.69231445]]]\n"
     ]
    }
   ],
   "source": [
    "# Broadcasting over other axis 3-D\n",
    "arr = np.random.randn(2, 3, 4)\n",
    "depth_means = arr.mean(axis=2) # shape 2,3\n",
    "demeaned_arr = arr - depth_means[:,:,np.newaxis]# New axis introduces another col\n",
    "print(\"Original array:\\n\", arr)\n",
    "print(\"Depth means:\", depth_means)\n",
    "print(\"Demeaned array:\\n\", demeaned_arr)"
   ]
  },
  {
   "cell_type": "code",
   "execution_count": 19,
   "metadata": {},
   "outputs": [
    {
     "name": "stdout",
     "output_type": "stream",
     "text": [
      "The original array is  [[0. 0. 0.]\n",
      " [0. 0. 0.]\n",
      " [0. 0. 0.]]\n",
      "Updated Array after setting values  [[4. 5. 6.]\n",
      " [4. 5. 6.]\n",
      " [4. 5. 6.]]\n"
     ]
    }
   ],
   "source": [
    "# Setting Values Using Broadcasting\n",
    "arr = np.zeros((3,3))\n",
    "row = np.array([4,5,6])\n",
    "print(\"The original array is \", arr)\n",
    "arr[:] = row\n",
    "print(\"Updated Array after setting values \", arr)"
   ]
  },
  {
   "cell_type": "code",
   "execution_count": null,
   "metadata": {},
   "outputs": [],
   "source": []
  }
 ],
 "metadata": {
  "kernelspec": {
   "display_name": "Python 3.10.3 64-bit",
   "language": "python",
   "name": "python3"
  },
  "language_info": {
   "codemirror_mode": {
    "name": "ipython",
    "version": 3
   },
   "file_extension": ".py",
   "mimetype": "text/x-python",
   "name": "python",
   "nbconvert_exporter": "python",
   "pygments_lexer": "ipython3",
   "version": "3.10.3"
  },
  "orig_nbformat": 4,
  "vscode": {
   "interpreter": {
    "hash": "369f2c481f4da34e4445cda3fffd2e751bd1c4d706f27375911949ba6bb62e1c"
   }
  }
 },
 "nbformat": 4,
 "nbformat_minor": 2
}
